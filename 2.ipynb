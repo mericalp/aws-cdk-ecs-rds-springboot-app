{
 "cells": [
  {
   "cell_type": "code",
   "execution_count": null,
   "metadata": {},
   "outputs": [
    {
     "name": "stderr",
     "output_type": "stream",
     "text": [
      "2023-11-19 18:07:40.903 Python[4241:213371] WARNING: Secure coding is not enabled for restorable state! Enable secure coding by implementing NSApplicationDelegate.applicationSupportsSecureRestorableState: and returning YES.\n"
     ]
    },
    {
     "ename": "TypeError",
     "evalue": "unhashable type: 'dict'",
     "output_type": "error",
     "traceback": [
      "\u001b[0;31m---------------------------------------------------------------------------\u001b[0m",
      "\u001b[0;31mTypeError\u001b[0m                                 Traceback (most recent call last)",
      "\u001b[1;32m/Users/mericalp/Desktop/yapay zeka vize video/2.ipynb Cell 1\u001b[0m line \u001b[0;36m4\n\u001b[1;32m     <a href='vscode-notebook-cell:/Users/mericalp/Desktop/yapay%20zeka%20vize%20video/2.ipynb#W0sZmlsZQ%3D%3D?line=45'>46</a>\u001b[0m             transition_probs[state, action, next_state] \u001b[39m=\u001b[39m probability\n\u001b[1;32m     <a href='vscode-notebook-cell:/Users/mericalp/Desktop/yapay%20zeka%20vize%20video/2.ipynb#W0sZmlsZQ%3D%3D?line=47'>48</a>\u001b[0m \u001b[39m# Use BFS to find the shortest path\u001b[39;00m\n\u001b[0;32m---> <a href='vscode-notebook-cell:/Users/mericalp/Desktop/yapay%20zeka%20vize%20video/2.ipynb#W0sZmlsZQ%3D%3D?line=48'>49</a>\u001b[0m shortest_path_a \u001b[39m=\u001b[39m bfs_shortest_path(env)\n\u001b[1;32m     <a href='vscode-notebook-cell:/Users/mericalp/Desktop/yapay%20zeka%20vize%20video/2.ipynb#W0sZmlsZQ%3D%3D?line=50'>51</a>\u001b[0m \u001b[39m# Part b\u001b[39;00m\n\u001b[1;32m     <a href='vscode-notebook-cell:/Users/mericalp/Desktop/yapay%20zeka%20vize%20video/2.ipynb#W0sZmlsZQ%3D%3D?line=51'>52</a>\u001b[0m \u001b[39m# Create a directed graph using networkx\u001b[39;00m\n\u001b[1;32m     <a href='vscode-notebook-cell:/Users/mericalp/Desktop/yapay%20zeka%20vize%20video/2.ipynb#W0sZmlsZQ%3D%3D?line=52'>53</a>\u001b[0m G \u001b[39m=\u001b[39m nx\u001b[39m.\u001b[39mDiGraph()\n",
      "\u001b[1;32m/Users/mericalp/Desktop/yapay zeka vize video/2.ipynb Cell 1\u001b[0m line \u001b[0;36m1\n\u001b[1;32m     <a href='vscode-notebook-cell:/Users/mericalp/Desktop/yapay%20zeka%20vize%20video/2.ipynb#W0sZmlsZQ%3D%3D?line=11'>12</a>\u001b[0m queue \u001b[39m=\u001b[39m Queue()\n\u001b[1;32m     <a href='vscode-notebook-cell:/Users/mericalp/Desktop/yapay%20zeka%20vize%20video/2.ipynb#W0sZmlsZQ%3D%3D?line=12'>13</a>\u001b[0m queue\u001b[39m.\u001b[39mput(start_state)\n\u001b[0;32m---> <a href='vscode-notebook-cell:/Users/mericalp/Desktop/yapay%20zeka%20vize%20video/2.ipynb#W0sZmlsZQ%3D%3D?line=13'>14</a>\u001b[0m visited\u001b[39m.\u001b[39;49madd(start_state)\n\u001b[1;32m     <a href='vscode-notebook-cell:/Users/mericalp/Desktop/yapay%20zeka%20vize%20video/2.ipynb#W0sZmlsZQ%3D%3D?line=15'>16</a>\u001b[0m \u001b[39mwhile\u001b[39;00m \u001b[39mnot\u001b[39;00m queue\u001b[39m.\u001b[39mempty():\n\u001b[1;32m     <a href='vscode-notebook-cell:/Users/mericalp/Desktop/yapay%20zeka%20vize%20video/2.ipynb#W0sZmlsZQ%3D%3D?line=16'>17</a>\u001b[0m     current_state \u001b[39m=\u001b[39m queue\u001b[39m.\u001b[39mget()\n",
      "\u001b[0;31mTypeError\u001b[0m: unhashable type: 'dict'"
     ]
    },
    {
     "ename": "",
     "evalue": "",
     "output_type": "error",
     "traceback": [
      "\u001b[1;31mThe Kernel crashed while executing code in the the current cell or a previous cell. Please review the code in the cell(s) to identify a possible cause of the failure. Click <a href='https://aka.ms/vscodeJupyterKernelCrash'>here</a> for more info. View Jupyter <a href='command:jupyter.viewOutput'>log</a> for further details."
     ]
    }
   ],
   "source": [
    "import gym\n",
    "import numpy as np\n",
    "import networkx as nx\n",
    "import time\n",
    "\n",
    "# Create FrozenLake environment\n",
    "env = gym.make(\"FrozenLake-v1\", render_mode='human', map_name=\"6x6\")\n",
    "env.reset()\n",
    "env.render()\n",
    "\n",
    "# Define the state space size and action space size\n",
    "num_states = env.observation_space.n\n",
    "num_actions = env.action_space.n\n",
    "\n",
    "# Initialize transition probability matrix\n",
    "P = np.zeros((num_states, num_actions), dtype=int)\n",
    "\n",
    "# Fill in the transition probability matrix using env.P\n",
    "for state in range(num_states):\n",
    "    for action in range(num_actions):\n",
    "        transitions = env.P[state][action]\n",
    "        for prob, next_state, reward, done in transitions:\n",
    "            P[state, action] = next_state\n",
    "\n",
    "# Custom BFS algorithm to find the shortest path\n",
    "def bfs_shortest_path(start, goal):\n",
    "    queue = [(start, [start])]\n",
    "    visited = set()\n",
    "\n",
    "    while queue:\n",
    "        current_state, path = queue.pop(0)\n",
    "        if current_state == goal:\n",
    "            return path\n",
    "        if current_state in visited:\n",
    "            continue\n",
    "        visited.add(current_state)\n",
    "        for action in range(num_actions):\n",
    "            next_state = P[current_state, action]\n",
    "            queue.append((next_state, path + [next_state]))\n",
    "\n",
    "# Find the shortest path using custom BFS\n",
    "start_state = env.reset()\n",
    "goal_state = env.P[0][0][0][0]  # Assuming the goal state is the first state in the first action of the initial state\n",
    "shortest_path = bfs_shortest_path(start_state, goal_state)\n",
    "\n",
    "# Print the shortest path\n",
    "print(\"Shortest path using custom BFS:\", shortest_path)\n",
    "\n",
    "# Create a directed graph using networkx\n",
    "G = nx.DiGraph()\n",
    "\n",
    "# Add edges to the graph based on transition probabilities\n",
    "for state in range(num_states):\n",
    "    for action in range(num_actions):\n",
    "        next_state = P[state, action]\n",
    "        G.add_edge(state, next_state)\n",
    "\n",
    "# Find the shortest path using networkx\n",
    "nx_shortest_path = nx.shortest_path(G, source=start_state, target=goal_state)\n",
    "\n",
    "# Print the shortest path using networkx\n",
    "print(\"Shortest path using networkx:\", nx_shortest_path)\n",
    "\n",
    "# Render the environment with the found paths\n",
    "for state in shortest_path:\n",
    "    env.render()\n",
    "    env.step(0)  # Take the action corresponding to the first action in the shortest path\n",
    "    time.sleep(1)\n",
    "\n",
    "env.close()\n"
   ]
  }
 ],
 "metadata": {
  "kernelspec": {
   "display_name": "Python 3",
   "language": "python",
   "name": "python3"
  },
  "language_info": {
   "codemirror_mode": {
    "name": "ipython",
    "version": 3
   },
   "file_extension": ".py",
   "mimetype": "text/x-python",
   "name": "python",
   "nbconvert_exporter": "python",
   "pygments_lexer": "ipython3",
   "version": "3.11.5"
  }
 },
 "nbformat": 4,
 "nbformat_minor": 2
}
